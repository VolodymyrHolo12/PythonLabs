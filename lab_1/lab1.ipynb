{
 "cells": [
  {
   "cell_type": "code",
   "execution_count": 1,
   "id": "56cf4b9b",
   "metadata": {},
   "outputs": [],
   "source": [
    "def find_middle(numbers):\n",
    "    numbers.sort()\n",
    "    n = len(numbers)\n",
    "    mid = n // 2\n",
    "    if n % 2 == 1:\n",
    "        return numbers[mid]\n",
    "    else:\n",
    "        return (numbers[mid - 1], numbers[mid])\n",
    "\n",
    "input_str = input(\"Enter a list of integers separated by spaces: \")\n",
    "numbers = list(map(int, input_str.split()))\n",
    "result = find_middle(numbers)\n",
    "print(\"The middle number(s):\", result)"
   ]
  },
  {
   "cell_type": "markdown",
   "id": "95c37901",
   "metadata": {},
   "source": [
    "# Гайана\n",
    "\n",
    "## Основна інформація\n",
    "\n",
    "**Площа:** 214,970 кв. км\n",
    "**Населення:** близько 786,000 людей\n",
    "**Державний устрій:** Унітарна парламентська республіка\n",
    "\n",
    "## Видатні особистості\n",
    "\n",
    "- **Шивнаранд Чандерпол** - видатний крикетист\n",
    "- **Шейн Аріон Родні** - відомий письменник і поет\n",
    "\n",
    "## Пам’ятки\n",
    "\n",
    "### Природні\n",
    "1. Кайетурскі водоспади\n",
    "   - Один з найвищих водоспадів у світі\n",
    "\n",
    "### Культурні\n",
    "1. Старовинні форти\n",
    "2. Музеї, що відображають історію країни\n",
    "\n",
    "## Флаг Гайани\n",
    "\n",
    "<svg width=\"300\" height=\"200\">\n",
    "  <rect width=\"300\" height=\"200\" fill=\"#009739\" />\n",
    "  <polygon points=\"0,0 300,0 150,100\" fill=\"#fff\" />\n",
    "  <polygon points=\"0,200 300,200 150,100\" fill=\"#fff\" />\n",
    "  <polygon points=\"0,0 300,0 150,100\" fill=\"#fcd116\" />\n",
    "  <polygon points=\"0,200 300,200 150,100\" fill=\"#fcd116\" />\n",
    "  <polygon points=\"0,0 270,0 150,100\" fill=\"#e8112d\" />\n",
    "  <polygon points=\"0,200 270,200 150,100\" fill=\"#e8112d\" />\n",
    "</svg>\n",
    "\n",
    "## Зображення Кайетурських водоспадів\n",
    "\n",
    "![Кайетурскі водоспади](https://vsviti.com.ua/wp-content/uploads/2013/04/vodopad-Kayetur-01.jpg)\n",
    "\n",
    "\n",
    "<style>\n",
    "  h1 { color: green; }\n",
    "  h2 { border-bottom: 1px solid gray; }\n",
    "  h3 { font-style: italic; }\n",
    "</style>\n"
   ]
  }
 ],
 "metadata": {
  "kernelspec": {
   "display_name": "Python 3",
   "language": "python",
   "name": "python3"
  },
  "language_info": {
   "codemirror_mode": {
    "name": "ipython",
    "version": 3
   },
   "file_extension": ".py",
   "mimetype": "text/x-python",
   "name": "python",
   "nbconvert_exporter": "python",
   "pygments_lexer": "ipython3",
   "version": "3.12.2"
  }
 },
 "nbformat": 4,
 "nbformat_minor": 5
}
